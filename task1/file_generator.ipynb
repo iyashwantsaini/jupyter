{
 "cells": [
  {
   "cell_type": "code",
   "execution_count": null,
   "metadata": {},
   "outputs": [],
   "source": [
    "def file_generator(num,size): \n",
    "    import hashlib \n",
    "    import string \n",
    "    import random \n",
    "    import os \n",
    "\n",
    "    #generating_files\n",
    "    for i in range(num):\n",
    "        filename = ''.join(random.choices(string.ascii_lowercase , k = 5))\n",
    "        with open('%s'%filename, 'wb') as f:\n",
    "            f.write(os.urandom(size)) \n",
    "        \n",
    "    #reading_files_&_calculating_md5\n",
    "    files = [file for file in os.listdir('.') if os.path.isfile(file) and len(file)==5]\n",
    "    for filename in files:\n",
    "        md5_hash = hashlib.md5()\n",
    "        with open(filename,\"rb\") as f:\n",
    "            for byte_block in iter(lambda: f.read(),b\"\"):\n",
    "                md5_hash.update(byte_block)\n",
    "                filemd5=md5_hash.hexdigest()\n",
    "                print (filename,filemd5)\n",
    "\n",
    "numfiles=int(input('Enter number of files to generate : '))\n",
    "size=int(input('Enter size for each file (in bytes) : '))\n",
    "\n",
    "print('\\nOutput :\\n')\n",
    "file_generator(numfiles,size*1024)"
   ]
  },
  {
   "cell_type": "code",
   "execution_count": null,
   "metadata": {},
   "outputs": [],
   "source": [
    "# This is a modified version of the previous program.\n",
    "# In this each file is generated ,read ,output is printed and then we move to to next file.\n",
    "def file_generator(num,size): \n",
    "    import hashlib \n",
    "    import string \n",
    "    import random \n",
    "    import os \n",
    "\n",
    "    for i in range(num):\n",
    "        \n",
    "        #generating a file\n",
    "        filename = ''.join(random.choices(string.ascii_lowercase , k = 5))\n",
    "        with open('%s'%filename, 'wb') as f:\n",
    "            f.write(os.urandom(size)) \n",
    "        \n",
    "        #reading_single_file_&_calculating_md5\n",
    "        md5_hash = hashlib.md5()\n",
    "        with open(filename,\"rb\") as f:\n",
    "            for byte_block in iter(lambda: f.read(),b\"\"):\n",
    "                md5_hash.update(byte_block)\n",
    "                filemd5=md5_hash.hexdigest()\n",
    "                print (filename,filemd5)\n",
    "\n",
    "numfiles=int(input('Enter number of files to generate : '))\n",
    "size=int(input('Enter size for each file (in bytes) : '))\n",
    "\n",
    "print('\\nOutput :\\n')\n",
    "file_generator(numfiles,size*1024)"
   ]
  },
  {
   "cell_type": "code",
   "execution_count": null,
   "metadata": {},
   "outputs": [],
   "source": []
  },
  {
   "cell_type": "code",
   "execution_count": null,
   "metadata": {},
   "outputs": [],
   "source": []
  },
  {
   "cell_type": "code",
   "execution_count": null,
   "metadata": {},
   "outputs": [],
   "source": []
  }
 ],
 "metadata": {
  "kernelspec": {
   "display_name": "Python 3",
   "language": "python",
   "name": "python3"
  },
  "language_info": {
   "codemirror_mode": {
    "name": "ipython",
    "version": 3
   },
   "file_extension": ".py",
   "mimetype": "text/x-python",
   "name": "python",
   "nbconvert_exporter": "python",
   "pygments_lexer": "ipython3",
   "version": "3.7.3"
  }
 },
 "nbformat": 4,
 "nbformat_minor": 2
}
